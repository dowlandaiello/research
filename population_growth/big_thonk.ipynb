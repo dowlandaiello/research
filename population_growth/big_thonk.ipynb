{
 "cells": [
  {
   "cell_type": "code",
   "execution_count": 16,
   "metadata": {},
   "outputs": [],
   "source": [
    "# We'll be analyzing data from these countries\n",
    "countries = [\"United States\"]"
   ]
  },
  {
   "cell_type": "code",
   "execution_count": 17,
   "metadata": {},
   "outputs": [],
   "source": [
    "import os\n",
    "\n",
    "# In practice, you can analyze whatever data you want, as long as it's coming from data.worldbank.org\n",
    "datasets = [\"GDP per capita\", \"population growth rate\", \"GDP growth rate\"]\n",
    "\n",
    "# Wb gives us data in CSV format, so we'll have to do a little magic before we can use it\n",
    "parsed_data = {}\n",
    "\n",
    "def datasets(path):\n",
    "    '''\n",
    "    Loads all of the available datasets in a given directory.\n",
    "    '''\n",
    "    \n",
    "    for name in os.listdir(path):\n",
    "        yield csv.reader(open(os.path.join(path, name)))"
   ]
  },
  {
   "cell_type": "code",
   "execution_count": 19,
   "metadata": {},
   "outputs": [],
   "source": [
    "import csv\n",
    "\n",
    "# Now, we're actually going to load the data\n",
    "data = datasets(\"le_data\")\n",
    "\n",
    "# And parse the data\n",
    "country_data = {}\n",
    "\n",
    "# Load entries for each country across each of the available data sets at once\n",
    "for i, sources in enumerate(zip(*data)):\n",
    "    # Skip any empty rows\n",
    "    if len(sources[0]) <= 1:\n",
    "        continue\n",
    "    \n",
    "    # The name of the current country is always stored in the first CSV column\n",
    "    country = sources[0][0]\n",
    "    \n",
    "    if country in countries:\n",
    "        # We'll want to collect our data from each of the provided datasets\n",
    "        compiled_data = {}\n",
    "        \n",
    "        for j, source in enumerate(sources):\n",
    "            # There's a bunch of padding by default\n",
    "            data = source[4:-1]\n",
    "            fixed_data = []\n",
    "            \n",
    "            for k, entry in enumerate(data):\n",
    "                # Try to fill any gaps in the data\n",
    "                if entry == \"\":\n",
    "                    if k == 0:\n",
    "                        entry = float(next(filter(lambda x : x != \"\", data)))\n",
    "                    else:\n",
    "                        entry = fixed_data[k - 1]\n",
    "                else:\n",
    "                    entry = float(entry)\n",
    "                    \n",
    "                fixed_data.append(entry)\n",
    "                \n",
    "            compiled_data[j] = fixed_data\n",
    "            \n",
    "        # Make sure we're allocating enough dates to fit the final plot of the data\n",
    "        compiled_data[\"year\"] = list(range(1960, 1960 + len(compiled_data[0])))\n",
    "        \n",
    "        country_data[sources[0][0]] = compiled_data"
   ]
  },
  {
   "cell_type": "code",
   "execution_count": 21,
   "metadata": {},
   "outputs": [
    {
     "ename": "ModuleNotFoundError",
     "evalue": "No module named 'matplotlib'",
     "output_type": "error",
     "traceback": [
      "\u001b[0;31m---------------------------------------------------------------------------\u001b[0m",
      "\u001b[0;31mModuleNotFoundError\u001b[0m                       Traceback (most recent call last)",
      "\u001b[0;32m<ipython-input-21-6f16b856ffae>\u001b[0m in \u001b[0;36m<module>\u001b[0;34m\u001b[0m\n\u001b[0;32m----> 1\u001b[0;31m \u001b[0;32mimport\u001b[0m \u001b[0mmatplotlib\u001b[0m\u001b[0;34m.\u001b[0m\u001b[0mpyplot\u001b[0m \u001b[0;32mas\u001b[0m \u001b[0mplt\u001b[0m\u001b[0;34m\u001b[0m\u001b[0;34m\u001b[0m\u001b[0m\n\u001b[0m\u001b[1;32m      2\u001b[0m \u001b[0;34m\u001b[0m\u001b[0m\n\u001b[1;32m      3\u001b[0m \u001b[0;31m# Make sure the data fits the diagram\u001b[0m\u001b[0;34m\u001b[0m\u001b[0;34m\u001b[0m\u001b[0;34m\u001b[0m\u001b[0m\n\u001b[1;32m      4\u001b[0m \u001b[0mplt\u001b[0m\u001b[0;34m.\u001b[0m\u001b[0mrcParams\u001b[0m\u001b[0;34m[\u001b[0m\u001b[0;34m\"figure.figsize\"\u001b[0m\u001b[0;34m]\u001b[0m \u001b[0;34m=\u001b[0m \u001b[0;34m[\u001b[0m\u001b[0;36m16\u001b[0m\u001b[0;34m,\u001b[0m \u001b[0;36m9\u001b[0m\u001b[0;34m]\u001b[0m\u001b[0;34m\u001b[0m\u001b[0;34m\u001b[0m\u001b[0m\n\u001b[1;32m      5\u001b[0m \u001b[0;34m\u001b[0m\u001b[0m\n",
      "\u001b[0;31mModuleNotFoundError\u001b[0m: No module named 'matplotlib'"
     ]
    }
   ],
   "source": [
    "import matplotlib.pyplot as plt\n",
    "\n",
    "# Make sure the data fits the diagram\n",
    "plt.rcParams[\"figure.figsize\"] = [16, 9]\n",
    "\n",
    "_, subplots = plt.subplots(len(country_data.keys()), len(country_data[countries[0]] - 1))\n",
    "\n",
    "for i, country in enumerate(country_data):\n",
    "    data = country_data[country]\n",
    "    \n",
    "    # Render pairs of datasets at a time\n",
    "    for j, dataset in enumerate(list(data.values())[1:-1]):\n",
    "        ax = subplots[i][j]\n",
    "        ax2 = ax.twinx()\n",
    "        \n",
    "        ax.set_xlabel(\"year\")\n",
    "        ax.set_ylabel(datasets[j])\n",
    "        ax.yaxis.set_major_locator(plt.MaxNLocator(15))\n",
    "        \n",
    "        ax2.plot(data[\"year\"], data[list(data.keys())[j - 1]], marker=\"\", linewidth=2, label=country)\n",
    "        ax2.yaxis.set_major_locator(plt.MaxNLocator(15))\n",
    "        \n",
    "plt.tight_layout()\n",
    "plt.show()"
   ]
  },
  {
   "cell_type": "code",
   "execution_count": null,
   "metadata": {},
   "outputs": [],
   "source": []
  }
 ],
 "metadata": {
  "kernelspec": {
   "display_name": "Python 3",
   "language": "python",
   "name": "python3"
  },
  "language_info": {
   "codemirror_mode": {
    "name": "ipython",
    "version": 3
   },
   "file_extension": ".py",
   "mimetype": "text/x-python",
   "name": "python",
   "nbconvert_exporter": "python",
   "pygments_lexer": "ipython3",
   "version": "3.8.3"
  }
 },
 "nbformat": 4,
 "nbformat_minor": 4
}
